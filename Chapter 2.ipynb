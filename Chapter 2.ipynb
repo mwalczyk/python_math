{
 "cells": [
  {
   "cell_type": "markdown",
   "metadata": {},
   "source": [
    "# Chapter 2"
   ]
  },
  {
   "cell_type": "markdown",
   "metadata": {},
   "source": [
    "Probability is built on the [Lesbesgue](https://www.google.com/search?q=lesbesgue+integratipon&ie=utf-8&oe=utf-8) theory of integration. Lesbesgue integration is similar to Riemann integration, except we focus on the y-axis instead of moving along the x-axis. To do this, we need some way of measuring the size of an interval along the x-axis that corresponds to some particular value of y. We call this function $\\mu$.\n",
    "\n",
    "A better term for a *random variable* is *measurable function*. In the case of a six-sided dice roll, the function $\\mu$ is the *probability mass function* that maps a set to a real number. In this case, we have $\\mu(\\{1\\}) = \\mu(\\{2\\}) = ... = \\mu(\\{6\\}) = 1/6$.\n",
    "\n",
    "Let's say that we have an unfair dice and a fair one. In particular, the second dice has:\n",
    "\n",
    "$$ P(\\{1\\}) = P(\\{2\\}) = P(\\{3\\}) = 1/9 $$\n",
    "$$ P(\\{4\\}) = P(\\{5\\}) = P(\\{6\\}) = 2/9 $$\n",
    "\n",
    "What is the probability that the sum of the two die is equal to 7? Remember that each throw is *independent*, meaning that the outcome of one dice does not influence the other. We can use Pandas instead of Python dictionaries to solve this."
   ]
  },
  {
   "cell_type": "code",
   "execution_count": 4,
   "metadata": {
    "collapsed": true
   },
   "outputs": [
    {
     "name": "stdout",
     "output_type": "stream",
     "text": [
      "                                        sm  d1  d2       pd1       pd2  \\\n",
      "(1, 1)  <map object at 0x000000C84B1FFC50>   1   1  0.111111  0.166667   \n",
      "(1, 2)  <map object at 0x000000C84B1FFC50>   1   2  0.111111  0.166667   \n",
      "(1, 3)  <map object at 0x000000C84B1FFC50>   1   3  0.111111  0.166667   \n",
      "(1, 4)  <map object at 0x000000C84B1FFC50>   1   4  0.111111  0.166667   \n",
      "(1, 5)  <map object at 0x000000C84B1FFC50>   1   5  0.111111  0.166667   \n",
      "(1, 6)  <map object at 0x000000C84B1FFC50>   1   6  0.111111  0.166667   \n",
      "(2, 1)  <map object at 0x000000C84B1FFC50>   2   1  0.111111  0.166667   \n",
      "(2, 2)  <map object at 0x000000C84B1FFC50>   2   2  0.111111  0.166667   \n",
      "(2, 3)  <map object at 0x000000C84B1FFC50>   2   3  0.111111  0.166667   \n",
      "(2, 4)  <map object at 0x000000C84B1FFC50>   2   4  0.111111  0.166667   \n",
      "(2, 5)  <map object at 0x000000C84B1FFC50>   2   5  0.111111  0.166667   \n",
      "(2, 6)  <map object at 0x000000C84B1FFC50>   2   6  0.111111  0.166667   \n",
      "(3, 1)  <map object at 0x000000C84B1FFC50>   3   1  0.111111  0.166667   \n",
      "(3, 2)  <map object at 0x000000C84B1FFC50>   3   2  0.111111  0.166667   \n",
      "(3, 3)  <map object at 0x000000C84B1FFC50>   3   3  0.111111  0.166667   \n",
      "(3, 4)  <map object at 0x000000C84B1FFC50>   3   4  0.111111  0.166667   \n",
      "(3, 5)  <map object at 0x000000C84B1FFC50>   3   5  0.111111  0.166667   \n",
      "(3, 6)  <map object at 0x000000C84B1FFC50>   3   6  0.111111  0.166667   \n",
      "(4, 1)  <map object at 0x000000C84B1FFC50>   4   1  0.222222  0.166667   \n",
      "(4, 2)  <map object at 0x000000C84B1FFC50>   4   2  0.222222  0.166667   \n",
      "(4, 3)  <map object at 0x000000C84B1FFC50>   4   3  0.222222  0.166667   \n",
      "(4, 4)  <map object at 0x000000C84B1FFC50>   4   4  0.222222  0.166667   \n",
      "(4, 5)  <map object at 0x000000C84B1FFC50>   4   5  0.222222  0.166667   \n",
      "(4, 6)  <map object at 0x000000C84B1FFC50>   4   6  0.222222  0.166667   \n",
      "(5, 1)  <map object at 0x000000C84B1FFC50>   5   1  0.222222  0.166667   \n",
      "(5, 2)  <map object at 0x000000C84B1FFC50>   5   2  0.222222  0.166667   \n",
      "(5, 3)  <map object at 0x000000C84B1FFC50>   5   3  0.222222  0.166667   \n",
      "(5, 4)  <map object at 0x000000C84B1FFC50>   5   4  0.222222  0.166667   \n",
      "(5, 5)  <map object at 0x000000C84B1FFC50>   5   5  0.222222  0.166667   \n",
      "(5, 6)  <map object at 0x000000C84B1FFC50>   5   6  0.222222  0.166667   \n",
      "(6, 1)  <map object at 0x000000C84B1FFC50>   6   1  0.222222  0.166667   \n",
      "(6, 2)  <map object at 0x000000C84B1FFC50>   6   2  0.222222  0.166667   \n",
      "(6, 3)  <map object at 0x000000C84B1FFC50>   6   3  0.222222  0.166667   \n",
      "(6, 4)  <map object at 0x000000C84B1FFC50>   6   4  0.222222  0.166667   \n",
      "(6, 5)  <map object at 0x000000C84B1FFC50>   6   5  0.222222  0.166667   \n",
      "(6, 6)  <map object at 0x000000C84B1FFC50>   6   6  0.222222  0.166667   \n",
      "\n",
      "                p  \n",
      "(1, 1)  0.0185185  \n",
      "(1, 2)  0.0185185  \n",
      "(1, 3)  0.0185185  \n",
      "(1, 4)  0.0185185  \n",
      "(1, 5)  0.0185185  \n",
      "(1, 6)  0.0185185  \n",
      "(2, 1)  0.0185185  \n",
      "(2, 2)  0.0185185  \n",
      "(2, 3)  0.0185185  \n",
      "(2, 4)  0.0185185  \n",
      "(2, 5)  0.0185185  \n",
      "(2, 6)  0.0185185  \n",
      "(3, 1)  0.0185185  \n",
      "(3, 2)  0.0185185  \n",
      "(3, 3)  0.0185185  \n",
      "(3, 4)  0.0185185  \n",
      "(3, 5)  0.0185185  \n",
      "(3, 6)  0.0185185  \n",
      "(4, 1)   0.037037  \n",
      "(4, 2)   0.037037  \n",
      "(4, 3)   0.037037  \n",
      "(4, 4)   0.037037  \n",
      "(4, 5)   0.037037  \n",
      "(4, 6)   0.037037  \n",
      "(5, 1)   0.037037  \n",
      "(5, 2)   0.037037  \n",
      "(5, 3)   0.037037  \n",
      "(5, 4)   0.037037  \n",
      "(5, 5)   0.037037  \n",
      "(5, 6)   0.037037  \n",
      "(6, 1)   0.037037  \n",
      "(6, 2)   0.037037  \n",
      "(6, 3)   0.037037  \n",
      "(6, 4)   0.037037  \n",
      "(6, 5)   0.037037  \n",
      "(6, 6)   0.037037  \n"
     ]
    },
    {
     "data": {
      "text/plain": [
       "sm\n",
       "<map object at 0x000000C84B1FFC50>    1.0\n",
       "Name: p, dtype: float64"
      ]
     },
     "execution_count": 4,
     "metadata": {},
     "output_type": "execute_result"
    }
   ],
   "source": [
    "# Import the Pandas module.\n",
    "from pandas import DataFrame\n",
    "\n",
    "# Create the data frame object.\n",
    "d = DataFrame(index = [(i, j) for i in range(1, 7) for j in range(1, 7)],\n",
    "              columns = ['sm', 'd1', 'd2', 'pd1', 'pd2', 'p'])\n",
    "\n",
    "# Fill out dice faces.\n",
    "d.d1 = [i[0] for i in d.index]\n",
    "d.d2 = [i[1] for i in d.index]\n",
    "\n",
    "# Compute the sum of the die in the sm column.\n",
    "d.sm = map(sum, d.index)\n",
    "\n",
    "# Compute the sum of the die in the sm column.\n",
    "d.sm = map(sum, d.index)\n",
    "\n",
    "# Fill out the probabilities for each face of the unfair die\n",
    "# (d1) and the fair die (d2).\n",
    "d.loc[d.d1 <= 3, 'pd1'] = 1.0 / 9.0\n",
    "d.loc[d.d1 > 3, 'pd1'] = 2.0 / 9.0\n",
    "d.pd2 = 1.0 / 6.0\n",
    "\n",
    "# Finally, compute the joint probabilities for the sum of the\n",
    "# shown faces.\n",
    "d.p = d.pd1 * d.pd2\n",
    "print(d)\n",
    "\n",
    "# Compute the density of all of the dice outcomes.\n",
    "density = d.groupby('sm')['p'].sum()\n",
    "density"
   ]
  },
  {
   "cell_type": "markdown",
   "metadata": {},
   "source": [
    "The same ideas work for *continuous random variables*, but managing the sets is trickier. In general, we have a random variable:\n",
    "\n",
    "$$ X : \\mathbb{R}\\mapsto\\mathbb{R}$$\n",
    "\n",
    "where\n",
    "\n",
    "$$\\mathbb{P}_X: \\mathbb{R}\\mapsto[0, 1]$$\n",
    "\n",
    "Technically, the sets of $X$ that we are examining are the [Borel](https://en.wikipedia.org/wiki/Borel_set) sets, but we can just think of them as intervals. We can ask the question: what is the probability that a uniformly distributed random variable on the unit interval takes on a value less than $1/2$? To answer this question, we compute the following integral:\n",
    "\n",
    "$$\\mathbb{P}_X([0, 1/2]) = \\mathbb{P}_X(0 < X < 1/2) = \\int_{0}^{1/2}dx = 1/2$$\n",
    "\n",
    "We can consider more complicated scenarios involving multiple random variables. For example, we could introduce $Y = 2X$ and ask the same question: what is the probability that $0 < Y < 1/2$? To answer this question, we have to create a set of equivalences in the target space that reflect back on the input space. That is, what is the interval $[0, 1/2]$ equivalent to in terms of the random variable $X$? Because $Y = 2X$, we know that the interval $[0, 1/2]$ corresponds to $[0, 1/4]$, in terms of X. We can then compute the answer using the method described above:\n",
    "\n",
    "$$\\mathbb{P}_X(0 < X < 1/4) = \\int_{0}^{1/4}dx = 1/4$$\n",
    "\n",
    "The necessary and sufficient condition for *independence* between two random variables $X$ and $Y$ is:\n",
    "\n",
    "$$\\mathbb{P}(X, Y) = \\mathbb{P}(X)\\mathbb{P}(Y)$$\n",
    "\n",
    "Two random variables $X$ and $Y$ are *uncorrelated* if:\n",
    "\n",
    "$$\\mathbb{E}(X - \\bar{X})\\mathbb{E}(Y - \\bar{Y}) = 0$$\n",
    "\n",
    "Note that it is possible for two variables to be uncorrelated but *not* independent. In other words, uncorrelatedness does not imply independence.\n",
    "\n",
    "Two variables are *conditionally independent* if:\n",
    "\n",
    "$$\\mathbb{P}(X, Y|Z) = \\mathbb{P}(X|Z)\\mathbb{P}(Y|Z)$$\n",
    "\n",
    "which says that $X$ and $Y$ are independent conditioned on $Z$. An example of conditional independence is outlined in the following [post](https://math.stackexchange.com/questions/23093/could-someone-explain-conditional-independence). Let $R$ and $B$ be the events of person **A** and person **B** getting home in time for dinner. Clearly, these two events are independent. Now, we introduce $Y$, the event of a snow storm hitting the city. Certainly, if $Y$ occurs, this will affect the probabilities of $R$ and $B$ occurring. In this scenario, both people will have a *lower* probability of making it home in time. However, the important thing to note here is that knowledge of person **A** getting home on time does *not* tell us anything about whether person **B** will get home on time (or vice-versa). We can say that $R$ and $B$ are conditionally independent, given $Y$. An example of two events that are independent but *not* conditionally independent would be: randomly sample two people **A** and **B** from the population and consider the probabilities that they will get home in time. Without further knowledge, we can reasonably assume that these events are independent. Now, if we introduce the event $Y$, which occurs if the two people live in the same neighborhood, the events $R$ and $B$ are no longer independent. If $Y$ occurs, and we know that person **A** is getting home late, then that would tend to *increase* the probability of person **B** getting home late."
   ]
  },
  {
   "cell_type": "code",
   "execution_count": null,
   "metadata": {
    "collapsed": true
   },
   "outputs": [],
   "source": []
  }
 ],
 "metadata": {
  "kernelspec": {
   "display_name": "Python 3",
   "language": "python",
   "name": "python3"
  },
  "language_info": {
   "codemirror_mode": {
    "name": "ipython",
    "version": 3
   },
   "file_extension": ".py",
   "mimetype": "text/x-python",
   "name": "python",
   "nbconvert_exporter": "python",
   "pygments_lexer": "ipython3",
   "version": "3.6.0"
  }
 },
 "nbformat": 4,
 "nbformat_minor": 2
}
